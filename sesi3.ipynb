{
  "nbformat": 4,
  "nbformat_minor": 0,
  "metadata": {
    "colab": {
      "provenance": [],
      "collapsed_sections": [],
      "authorship_tag": "ABX9TyNsd5ykTWpZAFPn6qidDZTQ",
      "include_colab_link": true
    },
    "kernelspec": {
      "name": "python3",
      "display_name": "Python 3"
    },
    "language_info": {
      "name": "python"
    }
  },
  "cells": [
    {
      "cell_type": "markdown",
      "metadata": {
        "id": "view-in-github",
        "colab_type": "text"
      },
      "source": [
        "<a href=\"https://colab.research.google.com/github/zektron001/Jeremy-Leoanrd-Purnomo/blob/main/sesi3.ipynb\" target=\"_parent\"><img src=\"https://colab.research.google.com/assets/colab-badge.svg\" alt=\"Open In Colab\"/></a>"
      ]
    },
    {
      "cell_type": "code",
      "execution_count": 1,
      "metadata": {
        "colab": {
          "base_uri": "https://localhost:8080/"
        },
        "id": "6mNz3fyOlXUG",
        "outputId": "5b9ae4c4-4d0f-4e5b-f010-c1e3240c08aa"
      },
      "outputs": [
        {
          "output_type": "stream",
          "name": "stdout",
          "text": [
            "sesi3\n"
          ]
        }
      ],
      "source": [
        "print(\"sesi3\")"
      ]
    },
    {
      "cell_type": "markdown",
      "source": [
        "#sesi3"
      ],
      "metadata": {
        "id": "iDEY1rzQlu5y"
      }
    },
    {
      "cell_type": "code",
      "source": [
        "nilai = 70\n",
        "#while(nilai <80):\n",
        " # print(\"belajar\")\n",
        "  #nilai = nilai +5\n",
        "  #print(\"nilai sekarang =\" , nilai)"
      ],
      "metadata": {
        "id": "L5nnflmlouJa"
      },
      "execution_count": 119,
      "outputs": []
    },
    {
      "cell_type": "code",
      "source": [
        "#def Ayo_belajar(nilai):\n",
        "# while(nilai <80):\n",
        " #    print(\"belajar\")\n",
        "  #   nilai = nilai +5\n",
        "   #  print(\"nilai sekarang =\" , nilai)"
      ],
      "metadata": {
        "id": "b3b6HtR0pOAW"
      },
      "execution_count": 118,
      "outputs": []
    },
    {
      "cell_type": "code",
      "source": [
        "#Ayo_belajar(10)"
      ],
      "metadata": {
        "id": "dBDZoMk2p5Ie"
      },
      "execution_count": 117,
      "outputs": []
    },
    {
      "cell_type": "code",
      "source": [
        "for buah in [\"apel\", \"jeruk\",\"pisang\"]:\n",
        "    print(buah)"
      ],
      "metadata": {
        "colab": {
          "base_uri": "https://localhost:8080/"
        },
        "id": "c3zLwkKgl0PF",
        "outputId": "3ac70324-2655-43d4-923a-cbb10fbcc157"
      },
      "execution_count": 5,
      "outputs": [
        {
          "output_type": "stream",
          "name": "stdout",
          "text": [
            "apel\n",
            "jeruk\n",
            "pisang\n"
          ]
        }
      ]
    },
    {
      "cell_type": "code",
      "source": [
        "def list_buah():\n",
        "  for buah in [\"apel\", \"jeruk\",\"pisang\"]:\n",
        "    print(buah)\n"
      ],
      "metadata": {
        "id": "JXZpoKeIoctt"
      },
      "execution_count": 33,
      "outputs": []
    },
    {
      "cell_type": "code",
      "source": [
        "list_buah()\n"
      ],
      "metadata": {
        "colab": {
          "base_uri": "https://localhost:8080/"
        },
        "id": "4UcZI9kEomsX",
        "outputId": "d0af745f-a3f9-4f02-f950-fc463be129bd"
      },
      "execution_count": 34,
      "outputs": [
        {
          "output_type": "stream",
          "name": "stdout",
          "text": [
            "apel\n",
            "jeruk\n",
            "pisang\n"
          ]
        }
      ]
    },
    {
      "cell_type": "code",
      "source": [
        "list_buah(\n",
        ")"
      ],
      "metadata": {
        "colab": {
          "base_uri": "https://localhost:8080/"
        },
        "id": "YkiVk82BpnpG",
        "outputId": "cd89ff36-c3fe-4e0b-f5e7-52d70ad8db48"
      },
      "execution_count": 16,
      "outputs": [
        {
          "output_type": "stream",
          "name": "stdout",
          "text": [
            "apel\n",
            "jeruk\n",
            "pisang\n"
          ]
        }
      ]
    },
    {
      "cell_type": "code",
      "source": [
        "#Ayo_belajar(-10)"
      ],
      "metadata": {
        "colab": {
          "base_uri": "https://localhost:8080/"
        },
        "id": "BMjwCq2orDB4",
        "outputId": "d04e9eec-7162-46eb-8615-34f186096696"
      },
      "execution_count": 35,
      "outputs": [
        {
          "output_type": "stream",
          "name": "stdout",
          "text": [
            "belajar\n",
            "nilai sekarang = -5\n",
            "belajar\n",
            "nilai sekarang = 0\n",
            "belajar\n",
            "nilai sekarang = 5\n",
            "belajar\n",
            "nilai sekarang = 10\n",
            "belajar\n",
            "nilai sekarang = 15\n",
            "belajar\n",
            "nilai sekarang = 20\n",
            "belajar\n",
            "nilai sekarang = 25\n",
            "belajar\n",
            "nilai sekarang = 30\n",
            "belajar\n",
            "nilai sekarang = 35\n",
            "belajar\n",
            "nilai sekarang = 40\n",
            "belajar\n",
            "nilai sekarang = 45\n",
            "belajar\n",
            "nilai sekarang = 50\n",
            "belajar\n",
            "nilai sekarang = 55\n",
            "belajar\n",
            "nilai sekarang = 60\n",
            "belajar\n",
            "nilai sekarang = 65\n",
            "belajar\n",
            "nilai sekarang = 70\n",
            "belajar\n",
            "nilai sekarang = 75\n",
            "belajar\n",
            "nilai sekarang = 80\n"
          ]
        }
      ]
    },
    {
      "cell_type": "code",
      "source": [
        "def menyapa(siapa = \"pak/bu\",kapan = \"pagi\",dimana = \"disini\"):\n",
        "  print(\"hello \" + siapa)\n",
        "  print(\"selamat \" + kapan ,\"sedang cari apa di \"+ dimana)"
      ],
      "metadata": {
        "id": "CVLLG53OrXvE"
      },
      "execution_count": 59,
      "outputs": []
    },
    {
      "cell_type": "code",
      "source": [
        "menyapa(\"andi\", \"pagi\", \"sini?\")\n",
        "\n"
      ],
      "metadata": {
        "colab": {
          "base_uri": "https://localhost:8080/"
        },
        "id": "wDiwx1fir8a6",
        "outputId": "6f8590cf-45dc-4915-b296-d10a7977f2da"
      },
      "execution_count": 60,
      "outputs": [
        {
          "output_type": "stream",
          "name": "stdout",
          "text": [
            "hello andi\n",
            "selamat pagi sedang cari apa di sini?\n"
          ]
        }
      ]
    },
    {
      "cell_type": "code",
      "source": [
        "menyapa( kapan = \"siang\")"
      ],
      "metadata": {
        "colab": {
          "base_uri": "https://localhost:8080/"
        },
        "id": "SW67SUidzIRa",
        "outputId": "4d35f3b8-54de-419c-ae5a-1d00a2df15b2"
      },
      "execution_count": 63,
      "outputs": [
        {
          "output_type": "stream",
          "name": "stdout",
          "text": [
            "hello pak/bu\n",
            "selamat siang sedang cari apa di disini\n"
          ]
        }
      ]
    },
    {
      "cell_type": "code",
      "source": [
        "menyapa (  kapan=\n",
        "         \"siang\", dimana =\"kantor\")"
      ],
      "metadata": {
        "colab": {
          "base_uri": "https://localhost:8080/"
        },
        "id": "ZZPng-vCz62X",
        "outputId": "04cfbebd-d212-43f2-ad7c-e19bee28fb71"
      },
      "execution_count": 68,
      "outputs": [
        {
          "output_type": "stream",
          "name": "stdout",
          "text": [
            "hello pak/bu\n",
            "selamat siang sedang cari apa di kantor\n"
          ]
        }
      ]
    },
    {
      "cell_type": "code",
      "source": [
        "menyapa(dimana =\"kantor\")"
      ],
      "metadata": {
        "colab": {
          "base_uri": "https://localhost:8080/"
        },
        "id": "Tj8c9H8vy3pA",
        "outputId": "6c0db793-0dab-4520-f589-cd22d5571471"
      },
      "execution_count": 61,
      "outputs": [
        {
          "output_type": "stream",
          "name": "stdout",
          "text": [
            "hello pak/bu\n",
            "selamat pagi sedang cari apa di kantor\n"
          ]
        }
      ]
    },
    {
      "cell_type": "markdown",
      "source": [
        "#pass by refrence & pass by Value\n",
        "tipe data terstruktur => pass by refrence\n",
        "\n",
        "tipe data simple => pass by value\n"
      ],
      "metadata": {
        "id": "Axq2d_Fhsb5K"
      }
    },
    {
      "cell_type": "code",
      "source": [
        "list_buah = [\"jeruk\",\"apel\",\"pissang\"]\n",
        "buah = []\n",
        "\n",
        "def tambahan_buah(koleksi_awal, tambahan):\n",
        "      koleksi_awal.append(tambahan.lower())\n",
        "      return koleksi_awal\n",
        "      \n",
        "\n",
        "tambahan_buah(list_buah, \"semangka\" )\n",
        "\n",
        "print(list_buah)\n",
        "print(buah)\n"
      ],
      "metadata": {
        "colab": {
          "base_uri": "https://localhost:8080/"
        },
        "id": "-gTK65ausxmn",
        "outputId": "546b94d0-12d5-4f60-e260-132c787f8b08"
      },
      "execution_count": 57,
      "outputs": [
        {
          "output_type": "stream",
          "name": "stdout",
          "text": [
            "['jeruk', 'apel', 'pissanh', 'semangka']\n",
            "[]\n"
          ]
        }
      ]
    },
    {
      "cell_type": "code",
      "source": [
        "\n"
      ],
      "metadata": {
        "id": "GlCKhWgsyjNs"
      },
      "execution_count": null,
      "outputs": []
    },
    {
      "cell_type": "markdown",
      "source": [
        "# kita buat function untuk menilai ujian murid\""
      ],
      "metadata": {
        "id": "i5UoYfxp0TBU"
      }
    },
    {
      "cell_type": "code",
      "source": [
        "def grading(*kumpulan_nilai , nama_kelas):\n",
        "    print(nama_kelas)\n",
        "    print(kumpulan_nilai)"
      ],
      "metadata": {
        "id": "3p2NdwGY0Z-h"
      },
      "execution_count": 70,
      "outputs": []
    },
    {
      "cell_type": "code",
      "source": [
        "def grading(nama_kelas , nilai_kelas , nilai):\n",
        "    print(\"untuk kelas\", nama_kelas , \"grade adalah sebagai berikut\" )\n",
        "    \n",
        "    if(nilai >= 90):\n",
        "      grade =\"A\"\n",
        "    elif(nilai >= 80):\n",
        "       grade =\"b\"\n",
        "    elif(nilai >= 70):\n",
        "        grade =\"c\"\n",
        "    print(\"nilai adalah\", nilai, \"grade adalah\" ,grade)"
      ],
      "metadata": {
        "id": "RRzKphQg1j5s"
      },
      "execution_count": 129,
      "outputs": []
    },
    {
      "cell_type": "code",
      "source": [
        "grading(\"python\" , 90 , 80)"
      ],
      "metadata": {
        "colab": {
          "base_uri": "https://localhost:8080/",
          "height": 168
        },
        "id": "hXHRPwxB2k6z",
        "outputId": "63fbde4d-8197-4a15-9345-451fe4e3f3de"
      },
      "execution_count": 127,
      "outputs": [
        {
          "output_type": "error",
          "ename": "TypeError",
          "evalue": "ignored",
          "traceback": [
            "\u001b[0;31m---------------------------------------------------------------------------\u001b[0m",
            "\u001b[0;31mTypeError\u001b[0m                                 Traceback (most recent call last)",
            "\u001b[0;32m<ipython-input-127-6d7a837fbb5f>\u001b[0m in \u001b[0;36m<module>\u001b[0;34m\u001b[0m\n\u001b[0;32m----> 1\u001b[0;31m \u001b[0mgrading\u001b[0m\u001b[0;34m(\u001b[0m\u001b[0;34m\"python\"\u001b[0m \u001b[0;34m,\u001b[0m \u001b[0;36m90\u001b[0m \u001b[0;34m,\u001b[0m \u001b[0;36m80\u001b[0m\u001b[0;34m)\u001b[0m\u001b[0;34m\u001b[0m\u001b[0;34m\u001b[0m\u001b[0m\n\u001b[0m",
            "\u001b[0;31mTypeError\u001b[0m: grading() takes 2 positional arguments but 3 were given"
          ]
        }
      ]
    },
    {
      "cell_type": "markdown",
      "source": [
        "#import modul untuk mrmkai code dalam modul tersebut\n",
        "import cindy\n"
      ],
      "metadata": {
        "id": "LvnqZsV07PWS"
      }
    },
    {
      "cell_type": "code",
      "source": [],
      "metadata": {
        "id": "nMekeO2L9xmj"
      },
      "execution_count": null,
      "outputs": []
    },
    {
      "cell_type": "code",
      "source": [
        "import cindy"
      ],
      "metadata": {
        "id": "Qxp9O6M27W_y"
      },
      "execution_count": 161,
      "outputs": []
    },
    {
      "cell_type": "code",
      "source": [
        "print(cindy.nama)\n",
        "print(cindy.umur)\n",
        "print(cindy.hobby)\n"
      ],
      "metadata": {
        "colab": {
          "base_uri": "https://localhost:8080/"
        },
        "id": "NJjw7TVS7lN6",
        "outputId": "6d667710-94f8-4d13-f3a9-febf520d738c"
      },
      "execution_count": 152,
      "outputs": [
        {
          "output_type": "stream",
          "name": "stdout",
          "text": [
            "cindy\n",
            "20\n",
            "['renang', 'masak']\n"
          ]
        }
      ]
    },
    {
      "cell_type": "code",
      "source": [
        "cindy.umur\n",
        "cindy.nyapa()"
      ],
      "metadata": {
        "colab": {
          "base_uri": "https://localhost:8080/",
          "height": 186
        },
        "id": "VJQ7CZi27-HN",
        "outputId": "6f862883-6e91-4e1c-f0a8-cda2c498d925"
      },
      "execution_count": 163,
      "outputs": [
        {
          "output_type": "error",
          "ename": "AttributeError",
          "evalue": "ignored",
          "traceback": [
            "\u001b[0;31m---------------------------------------------------------------------------\u001b[0m",
            "\u001b[0;31mAttributeError\u001b[0m                            Traceback (most recent call last)",
            "\u001b[0;32m<ipython-input-163-02efe9119abc>\u001b[0m in \u001b[0;36m<module>\u001b[0;34m\u001b[0m\n\u001b[1;32m      1\u001b[0m \u001b[0mcindy\u001b[0m\u001b[0;34m.\u001b[0m\u001b[0mumur\u001b[0m\u001b[0;34m\u001b[0m\u001b[0;34m\u001b[0m\u001b[0m\n\u001b[0;32m----> 2\u001b[0;31m \u001b[0mcindy\u001b[0m\u001b[0;34m.\u001b[0m\u001b[0mnyapa\u001b[0m\u001b[0;34m(\u001b[0m\u001b[0;34m)\u001b[0m\u001b[0;34m\u001b[0m\u001b[0;34m\u001b[0m\u001b[0m\n\u001b[0m",
            "\u001b[0;31mAttributeError\u001b[0m: module 'cindy' has no attribute 'nyapa'"
          ]
        }
      ]
    }
  ]
}
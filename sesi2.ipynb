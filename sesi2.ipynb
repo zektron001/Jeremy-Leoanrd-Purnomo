{
 "cells": [
  {
   "cell_type": "code",
   "execution_count": 6,
   "metadata": {},
   "outputs": [
    {
     "name": "stdout",
     "output_type": "stream",
     "text": [
      "yes\n",
      "False\n"
     ]
    }
   ],
   "source": [
    "x = 0\n",
    "y = 1\n",
    "if (x < y): \n",
    "     print(\"yes\")\n",
    "     \n",
    "if (x > y):\n",
    "    print(\"false\")\n",
    "    \n",
    "print (x > y)"
   ]
  },
  {
   "cell_type": "code",
   "execution_count": 11,
   "metadata": {},
   "outputs": [
    {
     "name": "stdout",
     "output_type": "stream",
     "text": [
      "D\n"
     ]
    }
   ],
   "source": [
    "nilai_Andi = 50\n",
    "grade = \"f\"\n",
    "if(nilai_Andi > 90):\n",
    "    grade = \"A\"\n",
    "elif(nilai_Andi > 70):\n",
    "    grade = \"B\"\n",
    "elif(nilai_Andi > 50):\n",
    "    grade = \"C\"\n",
    "elif(nilai_Andi > 0):\n",
    "    grade = \"D\"\n",
    "else:\n",
    "    grade = \"F\"\n",
    "    \n",
    "print(grade)"
   ]
  },
  {
   "cell_type": "markdown",
   "metadata": {},
   "source": [
    "# NESTED IF"
   ]
  },
  {
   "cell_type": "code",
   "execution_count": 14,
   "metadata": {},
   "outputs": [
    {
     "name": "stdout",
     "output_type": "stream",
     "text": [
      "0.5\n"
     ]
    }
   ],
   "source": [
    "masuk = 8\n",
    "total_kelas = 16\n",
    "\n",
    "absen = masuk / total_kelas\n",
    "print(absen)"
   ]
  },
  {
   "cell_type": "code",
   "execution_count": 15,
   "metadata": {},
   "outputs": [
    {
     "name": "stdout",
     "output_type": "stream",
     "text": [
      "boleh\n"
     ]
    }
   ],
   "source": [
    "umur = 17\n",
    "tinggi = 170\n",
    "\n",
    "if ( umur > 16 and tinggi >= 120):\n",
    "    print(\"boleh\")\n",
    "else:\n",
    "    print(\"tidak boleh\")"
   ]
  },
  {
   "cell_type": "code",
   "execution_count": 20,
   "metadata": {},
   "outputs": [
    {
     "name": "stdout",
     "output_type": "stream",
     "text": [
      "boleh\n"
     ]
    }
   ],
   "source": [
    "umur = 17\n",
    "tinggi = 170\n",
    "\n",
    "if ( umur > 16 and tinggi >= 120):\n",
    "    print(\"boleh\")\n",
    "elif (umur > 13 and tinggi >= 120):   \n",
    "    print(\"boleh duduk belakang\")"
   ]
  },
  {
   "cell_type": "code",
   "execution_count": 23,
   "metadata": {},
   "outputs": [
    {
     "name": "stdout",
     "output_type": "stream",
     "text": [
      "tidak punya ktp\n"
     ]
    }
   ],
   "source": [
    "umur = 15\n",
    "msg1 = \" punya ktp\" if(umur >= 17) else \"tidak punya ktp\"\n",
    "print(msg1)"
   ]
  },
  {
   "cell_type": "markdown",
   "metadata": {},
   "source": [
    "### pass\n",
    "place holder jika sedang membuat conditional /  percabangn atau loop / peluang tapi code belum pasti"
   ]
  },
  {
   "cell_type": "code",
   "execution_count": 25,
   "metadata": {},
   "outputs": [],
   "source": [
    "if ( umur > 16 and tinggi >= 120):\n",
    "    print(\"boleh\")\n",
    "else:\n",
    " pass"
   ]
  },
  {
   "cell_type": "markdown",
   "metadata": {},
   "source": [
    "# loops"
   ]
  },
  {
   "cell_type": "code",
   "execution_count": 36,
   "metadata": {},
   "outputs": [
    {
     "name": "stdout",
     "output_type": "stream",
     "text": [
      "2\n"
     ]
    }
   ],
   "source": [
    "keranjang_buah = [\"jeruk\", \"apel\", \"pisang\", \"pir\" , \"apel\"]\n",
    "total_apel = 0 \n",
    "\n",
    "for buah in keranjang_buah:\n",
    "    if(buah == \"apel\"):\n",
    "      total_apel= total_apel + 1\n",
    "      \n",
    "print (total_apel)"
   ]
  },
  {
   "cell_type": "code",
   "execution_count": 41,
   "metadata": {},
   "outputs": [
    {
     "name": "stdout",
     "output_type": "stream",
     "text": [
      "jeruk\n",
      "apel\n",
      "pisang\n",
      "pir\n",
      "pir tidak enak\n",
      "apel\n"
     ]
    }
   ],
   "source": [
    "index = 0\n",
    "while ( index < len(keranjang_buah)):\n",
    "    buah = keranjang_buah[index]\n",
    "    index = index + 1\n",
    "    print(buah)\n",
    "    if ( buah == \"pir\"):\n",
    "         print (\"pir tidak enak\")"
   ]
  }
 ],
 "metadata": {
  "kernelspec": {
   "display_name": "Python 3.9.6 64-bit",
   "language": "python",
   "name": "python3"
  },
  "language_info": {
   "codemirror_mode": {
    "name": "ipython",
    "version": 3
   },
   "file_extension": ".py",
   "mimetype": "text/x-python",
   "name": "python",
   "nbconvert_exporter": "python",
   "pygments_lexer": "ipython3",
   "version": "3.9.6"
  },
  "orig_nbformat": 4,
  "vscode": {
   "interpreter": {
    "hash": "14958d3aee5f1cad06795f787e54b96185c25fb40dfec723a5be941f3a531b8c"
   }
  }
 },
 "nbformat": 4,
 "nbformat_minor": 2
}

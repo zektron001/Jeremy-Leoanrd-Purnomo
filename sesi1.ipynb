{
 "cells": [
  {
   "cell_type": "code",
   "execution_count": 23,
   "metadata": {},
   "outputs": [
    {
     "name": "stdout",
     "output_type": "stream",
     "text": [
      "hello world\n"
     ]
    }
   ],
   "source": [
    "print(\"hello world\")"
   ]
  },
  {
   "cell_type": "code",
   "execution_count": 24,
   "metadata": {},
   "outputs": [
    {
     "name": "stdout",
     "output_type": "stream",
     "text": [
      "hi\n"
     ]
    }
   ],
   "source": [
    "print(\"hi\")"
   ]
  },
  {
   "cell_type": "code",
   "execution_count": 77,
   "metadata": {},
   "outputs": [
    {
     "name": "stdout",
     "output_type": "stream",
     "text": [
      "12345\n"
     ]
    },
    {
     "data": {
      "text/plain": [
       "1"
      ]
     },
     "metadata": {},
     "output_type": "display_data"
    },
    {
     "name": "stdout",
     "output_type": "stream",
     "text": [
      "<class 'int'>\n",
      "<class 'float'>\n"
     ]
    }
   ],
   "source": [
    "print(12345)\n",
    "display(1)\n",
    "print(type(564))\n",
    "print(type(56.4))\n"
   ]
  },
  {
   "cell_type": "code",
   "execution_count": null,
   "metadata": {},
   "outputs": [],
   "source": []
  },
  {
   "cell_type": "markdown",
   "metadata": {},
   "source": [
    "# sesi 1\n",
    "type data ada integer dan juga float\n"
   ]
  },
  {
   "cell_type": "code",
   "execution_count": 26,
   "metadata": {},
   "outputs": [
    {
     "name": "stdout",
     "output_type": "stream",
     "text": [
      "10.0\n"
     ]
    }
   ],
   "source": [
    "# convert data type\n",
    "# int ke float\n",
    "print(float(10))"
   ]
  },
  {
   "cell_type": "code",
   "execution_count": 27,
   "metadata": {},
   "outputs": [
    {
     "name": "stdout",
     "output_type": "stream",
     "text": [
      "2\n"
     ]
    }
   ],
   "source": [
    "# float ke int\n",
    "print(int(2.5))"
   ]
  },
  {
   "cell_type": "code",
   "execution_count": 28,
   "metadata": {},
   "outputs": [
    {
     "name": "stdout",
     "output_type": "stream",
     "text": [
      "<class 'str'>\n"
     ]
    }
   ],
   "source": [
    "# string\n",
    "print(type(\"studying coding\"))"
   ]
  },
  {
   "cell_type": "code",
   "execution_count": 29,
   "metadata": {},
   "outputs": [
    {
     "name": "stdout",
     "output_type": "stream",
     "text": [
      "50.75\n"
     ]
    }
   ],
   "source": [
    "# string ke float\n",
    "print(float(50.75))"
   ]
  },
  {
   "cell_type": "code",
   "execution_count": 30,
   "metadata": {},
   "outputs": [
    {
     "name": "stdout",
     "output_type": "stream",
     "text": [
      "True\n",
      "False\n"
     ]
    }
   ],
   "source": [
    "# boolean cuman ada 2 True and False\n",
    "# boolean\n",
    "True\n",
    "\n",
    "False\n",
    "\n",
    "#truth and falsy\n",
    "\n",
    "print(True)\n",
    "\n",
    "print(False)"
   ]
  },
  {
   "cell_type": "code",
   "execution_count": 31,
   "metadata": {},
   "outputs": [
    {
     "name": "stdout",
     "output_type": "stream",
     "text": [
      "False\n"
     ]
    }
   ],
   "source": [
    "# yang d angap false adalah yang kosong contoh 0 , 0.0 , \"\" , ' ' , [] , {} , ()\n",
    "\n",
    "print(bool(0))"
   ]
  },
  {
   "cell_type": "markdown",
   "metadata": {},
   "source": [
    "# variabel\n",
    "nama variabel terserah boleh nilai_abdi atau nilaiAndi atau _nilai_andi_  \n",
    "\n",
    "rules penulisan variable\n",
    "-tidak di mulai oleh angka\n",
    "- snake_case --> recomended\n",
    "huruf kecil semua, spasi kita gantikan _\n",
    "jangan menggunakan keyword python(print, type, display, True, False, bool, str, float)"
   ]
  },
  {
   "cell_type": "code",
   "execution_count": 32,
   "metadata": {},
   "outputs": [
    {
     "name": "stdout",
     "output_type": "stream",
     "text": [
      "100 99\n"
     ]
    }
   ],
   "source": [
    "nilai_andi = 100\n",
    "nilaiAndi = 99\n",
    "print(nilai_andi, nilaiAndi)"
   ]
  },
  {
   "cell_type": "code",
   "execution_count": 33,
   "metadata": {},
   "outputs": [],
   "source": [
    "msg = \"sudah malam guys\""
   ]
  },
  {
   "cell_type": "code",
   "execution_count": 34,
   "metadata": {},
   "outputs": [
    {
     "name": "stdout",
     "output_type": "stream",
     "text": [
      "sudah malam guys\n"
     ]
    }
   ],
   "source": [
    "print(msg)"
   ]
  },
  {
   "cell_type": "code",
   "execution_count": 36,
   "metadata": {},
   "outputs": [
    {
     "name": "stdout",
     "output_type": "stream",
     "text": [
      "50.7\n"
     ]
    }
   ],
   "source": [
    "nilai_andi = 50.7\n",
    "print(nilai_andi)"
   ]
  },
  {
   "cell_type": "markdown",
   "metadata": {},
   "source": [
    "manipulasi data\n",
    "- data bisa di arikmatik\n",
    "  - + * / % **\n",
    "- data string.\n",
    "    - arismatik + *\n",
    "    - built in function bawaaan oleh python\n",
    "        ubah jadi huruf besar semua\n",
    "        ubah jadi huruf kecil semua"
   ]
  },
  {
   "cell_type": "code",
   "execution_count": 40,
   "metadata": {},
   "outputs": [
    {
     "name": "stdout",
     "output_type": "stream",
     "text": [
      "400\n",
      "5\n"
     ]
    }
   ],
   "source": [
    "n = 10\n",
    "j = 20\n",
    "k = 15\n",
    "\n",
    "print( n**2 + j*k   \n",
    ")\n",
    "# pencobaan aritmatika dasar \n",
    "# modulum\n",
    "print(k % n)\n",
    "\n"
   ]
  },
  {
   "cell_type": "code",
   "execution_count": 43,
   "metadata": {},
   "outputs": [
    {
     "name": "stdout",
     "output_type": "stream",
     "text": [
      "sudah malam guys oke ngantuk ges\n"
     ]
    }
   ],
   "source": [
    "# menambah string\n",
    "\n",
    "msg2 = msg + \" oke ngantuk ges\"\n",
    "\n",
    "print(msg2)"
   ]
  },
  {
   "cell_type": "code",
   "execution_count": 45,
   "metadata": {},
   "outputs": [
    {
     "name": "stdout",
     "output_type": "stream",
     "text": [
      "sudah malam guys oke ngantuk ges ok!\n",
      "sudah malam guys oke ngantuk ges\n"
     ]
    }
   ],
   "source": [
    "# tidak permanent\n",
    "print ( msg2 + \" ok!\")\n",
    "print(msg2)"
   ]
  },
  {
   "cell_type": "code",
   "execution_count": 47,
   "metadata": {},
   "outputs": [
    {
     "name": "stdout",
     "output_type": "stream",
     "text": [
      "SUDAH MALAM GUYS OKE NGANTUK GES\n"
     ]
    }
   ],
   "source": [
    "#  built in function\n",
    "# BEAR SEMUA\n",
    "print(msg2.upper())"
   ]
  },
  {
   "cell_type": "code",
   "execution_count": 49,
   "metadata": {},
   "outputs": [
    {
     "name": "stdout",
     "output_type": "stream",
     "text": [
      "sudah malam guys oke ngantuk ges\n",
      "Sudah malam guys oke ngantuk ges\n",
      "sudah malam guys oke ngantuk ges\n",
      "Sudah Malam Guys Oke Ngantuk Ges\n"
     ]
    }
   ],
   "source": [
    "# kecil semua\n",
    "print(msg2.lower())\n",
    "# function lain\n",
    "print(msg2.capitalize())\n",
    "print(msg2.casefold())\n",
    "print(msg2.title())"
   ]
  },
  {
   "cell_type": "markdown",
   "metadata": {},
   "source": [
    "comparison\n",
    "    - >\n",
    "    - <\n",
    "    - >-\n",
    "    - <-"
   ]
  },
  {
   "cell_type": "markdown",
   "metadata": {},
   "source": []
  },
  {
   "cell_type": "code",
   "execution_count": 55,
   "metadata": {},
   "outputs": [
    {
     "name": "stdout",
     "output_type": "stream",
     "text": [
      "10 15\n",
      "False\n",
      "True\n",
      "True\n",
      "False\n",
      "False\n",
      "True\n"
     ]
    }
   ],
   "source": [
    "print(n , k)\n",
    "\n",
    "print(n == k)\n",
    "print(n != k)\n",
    "print(n <= k)\n",
    "print(n >= k)\n",
    "print(n > k)\n",
    "print(n < k)"
   ]
  },
  {
   "cell_type": "code",
   "execution_count": 56,
   "metadata": {},
   "outputs": [
    {
     "data": {
      "text/plain": [
       "True"
      ]
     },
     "execution_count": 56,
     "metadata": {},
     "output_type": "execute_result"
    }
   ],
   "source": [
    "# oprator in mengecek stirng\n",
    "\"malam\" in msg"
   ]
  },
  {
   "cell_type": "markdown",
   "metadata": {},
   "source": [
    "# structured data type \n",
    "tipe data yang punya struktur\n",
    "\n",
    "banyak data di simpan di satu tempat yang sama \n",
    "\n",
    "CRUD: create read update delete\n",
    "    -creat\n",
    "    -read\n",
    "    -update\n",
    "    -delet (using del but we can make the lis to none or [ ] so that it false and doesn't eror)\n",
    "# list \n",
    "[]\n",
    "    setiap data di pisah \",\"\n",
    "    "
   ]
  },
  {
   "cell_type": "code",
   "execution_count": 57,
   "metadata": {},
   "outputs": [
    {
     "name": "stdout",
     "output_type": "stream",
     "text": [
      "['apel fuji', 3500, True]\n",
      "<class 'list'>\n"
     ]
    }
   ],
   "source": [
    "detailApel =[\"apel fuji\", 3500, True]\n",
    "\n",
    "print(detailApel)\n",
    "print(type(detailApel))"
   ]
  },
  {
   "cell_type": "code",
   "execution_count": 61,
   "metadata": {},
   "outputs": [
    {
     "name": "stdout",
     "output_type": "stream",
     "text": [
      "['apel', 'sayur', 'jamur']\n",
      "<class 'list'>\n",
      "3\n"
     ]
    }
   ],
   "source": [
    "#create\n",
    "list_buah = [\"apel\", \"sayur\", \"jamur\"]\n",
    "print(list_buah)\n",
    "print(type(list_buah))\n",
    "# cek list buah\n",
    "print(len(list_buah))"
   ]
  },
  {
   "cell_type": "code",
   "execution_count": 63,
   "metadata": {},
   "outputs": [
    {
     "name": "stdout",
     "output_type": "stream",
     "text": [
      "apel\n",
      "jamur\n"
     ]
    }
   ],
   "source": [
    "# ambil 1 item dari list item pertama \"apel\"\n",
    "print(list_buah[0])\n",
    "# dari belakang\n",
    "print(list_buah[-1])\n"
   ]
  },
  {
   "cell_type": "markdown",
   "metadata": {},
   "source": [
    "untuk mengambil 1 dari banyak item di dalam sebuah list, kita gunakan teknik\"indexing\" memilij index item tersebut. index di mulai dai 0, jadi item pertama angkanya 0"
   ]
  },
  {
   "cell_type": "code",
   "execution_count": 67,
   "metadata": {},
   "outputs": [
    {
     "name": "stdout",
     "output_type": "stream",
     "text": [
      "['apel', 'sayur']\n"
     ]
    }
   ],
   "source": [
    "# ambil lebih dari 1 item list \"slicing\"\n",
    "\n",
    "# ambi item pertama dan kedua index 0 dan 1 \n",
    "# untuk slicing kita pakai angka index : index+1\n",
    "print(list_buah[0:2])"
   ]
  },
  {
   "cell_type": "code",
   "execution_count": 78,
   "metadata": {},
   "outputs": [
    {
     "name": "stdout",
     "output_type": "stream",
     "text": [
      "['apel fuji', 3500, True]\n"
     ]
    }
   ],
   "source": [
    "\n",
    "print(detailApel)\n",
    "\n",
    "detail_jeruk = [\"jeruk sunkist\", 4000, False]\n",
    "detail_pisang = [\"pisang raja\", 17500, False]\n"
   ]
  },
  {
   "cell_type": "code",
   "execution_count": 73,
   "metadata": {},
   "outputs": [
    {
     "name": "stdout",
     "output_type": "stream",
     "text": [
      "['apel', 'jeruk', 'pisang']\n",
      "['apel', 'jeruk', 'pisang', 'semangka']\n",
      "['apel', 'jeruk', 'pisang']\n",
      "True\n",
      "False\n"
     ]
    }
   ],
   "source": [
    "# update \n",
    "list_buah = [\"apel\" , \"jeruk\", \"pisang\"]\n",
    "print(list_buah)\n",
    "list_buah.append(\"semangka\")\n",
    "print(list_buah)\n",
    "list_buah.remove(\"semangka\")\n",
    "print(list_buah)\n",
    "print(\"apel\" in list_buah)\n",
    "print(\"semangka\" in list_buah)\n"
   ]
  },
  {
   "cell_type": "code",
   "execution_count": 76,
   "metadata": {},
   "outputs": [
    {
     "name": "stdout",
     "output_type": "stream",
     "text": [
      "False\n"
     ]
    }
   ],
   "source": [
    "# di buat note\n",
    "list_buah = None\n",
    "print(bool(list_buah))"
   ]
  },
  {
   "cell_type": "markdown",
   "metadata": {},
   "source": [
    "#dictionary\n",
    " -tertruktur\n",
    " -banyak item\n",
    " -tidak punya index, punya \"key\"\n",
    " - setiap item dalam dictionary berpasnagan \"key\": value\n",
    "   - tipe data key selalu string\n",
    "   - tipe data value bebas, bisa str, int, list, dictionary\n",
    "\n",
    "seperti mendeskripsikan sebuah objek ke komputer\n",
    "\n",
    "pyhton\n",
    "\n",
    "hp={\n",
    "  \"ram\" : 4,\n",
    "  \"rom\" : 128,\n",
    "  \"merk\" : \"samsung\"\n",
    "  \"tipe\" : \"35\"\n",
    "  \"harga\" : 5.000.000\n",
    "\n",
    "}"
   ]
  },
  {
   "cell_type": "code",
   "execution_count": 88,
   "metadata": {},
   "outputs": [
    {
     "name": "stdout",
     "output_type": "stream",
     "text": [
      "35\n"
     ]
    }
   ],
   "source": [
    "# dictionary\n",
    "hp={\n",
    "  \"ram\" : 4,\n",
    "  \"rom\" : 128,\n",
    "  \"merk\" : \"samsung\",\n",
    "  \"tipe\" : 35,\n",
    "  \"harga\" : 50000\n",
    "}\n",
    "print(hp[\"tipe\"])"
   ]
  },
  {
   "cell_type": "code",
   "execution_count": 89,
   "metadata": {},
   "outputs": [
    {
     "name": "stdout",
     "output_type": "stream",
     "text": [
      "{'ram': 4, 'rom': 128, 'merk': 'samsung', 'tipe': 35, 'harga': 50000, 'toko': 'ibox SMS'}\n"
     ]
    }
   ],
   "source": [
    "# menambah key\n",
    "hp[\"toko\"] = \"ibox SMS\"\n",
    "\n",
    "print(hp)"
   ]
  },
  {
   "cell_type": "code",
   "execution_count": 90,
   "metadata": {},
   "outputs": [
    {
     "name": "stdout",
     "output_type": "stream",
     "text": [
      "{'ram': None, 'rom': 128, 'merk': 'samsung', 'tipe': 35, 'harga': 50000, 'toko': 'ibox SMS'}\n"
     ]
    }
   ],
   "source": [
    "# menghappus\n",
    "hp[\"ram\"] = None\n",
    "\n",
    "print(hp)"
   ]
  },
  {
   "cell_type": "code",
   "execution_count": 91,
   "metadata": {},
   "outputs": [
    {
     "name": "stdout",
     "output_type": "stream",
     "text": [
      "[]\n"
     ]
    }
   ],
   "source": [
    "hp = []\n",
    "print(hp)"
   ]
  },
  {
   "cell_type": "markdown",
   "metadata": {},
   "source": [
    "Tuple\n",
    "   list nilai\n",
    "   "
   ]
  },
  {
   "cell_type": "code",
   "execution_count": 94,
   "metadata": {},
   "outputs": [
    {
     "name": "stdout",
     "output_type": "stream",
     "text": [
      "[75, 60, 70]\n"
     ]
    }
   ],
   "source": [
    "tuple_nilai = [50, 60, 70]\n",
    "tuple_nilai[0] = 75\n",
    "# tuple tidak punya appemd\n",
    "print(tuple_nilai)"
   ]
  }
 ],
 "metadata": {
  "kernelspec": {
   "display_name": "Python 3.9.6 64-bit",
   "language": "python",
   "name": "python3"
  },
  "language_info": {
   "codemirror_mode": {
    "name": "ipython",
    "version": 3
   },
   "file_extension": ".py",
   "mimetype": "text/x-python",
   "name": "python",
   "nbconvert_exporter": "python",
   "pygments_lexer": "ipython3",
   "version": "3.9.6"
  },
  "orig_nbformat": 4,
  "vscode": {
   "interpreter": {
    "hash": "14958d3aee5f1cad06795f787e54b96185c25fb40dfec723a5be941f3a531b8c"
   }
  }
 },
 "nbformat": 4,
 "nbformat_minor": 2
}
